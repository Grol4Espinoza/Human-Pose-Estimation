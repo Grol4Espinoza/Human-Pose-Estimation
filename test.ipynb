{
 "cells": [
  {
   "cell_type": "code",
   "execution_count": null,
   "metadata": {},
   "outputs": [],
   "source": [
    "#Check tensorboard\n",
    "%load_ext tensorboard\n",
    "%tensorboard --logdir logs/fit --host 0.0.0.0"
   ]
  },
  {
   "cell_type": "code",
   "execution_count": 71,
   "metadata": {},
   "outputs": [],
   "source": [
    "\n",
    "import numpy as np\n",
    "import tensorflow as tf\n",
    "from math import exp\n",
    "import matplotlib.pyplot as plt\n",
    "from time import time\n",
    "%matplotlib inline"
   ]
  },
  {
   "cell_type": "code",
   "execution_count": 89,
   "metadata": {},
   "outputs": [
    {
     "name": "stdout",
     "output_type": "stream",
     "text": [
      "0.3795492645712327\n"
     ]
    },
    {
     "data": {
      "image/png": "[encoded data removed]",
      "text/plain": [
       "<Figure size 432x288 with 1 Axes>"
      ]
     },
     "metadata": {
      "needs_background": "light"
     },
     "output_type": "display_data"
    }
   ],
   "source": [
    "a = np.random.rand(64,64)\n",
    "a[0][0] = 2\n",
    "plt.imshow(a)\n",
    "print(a[0][4])"
   ]
  },
  {
   "cell_type": "code",
   "execution_count": 32,
   "metadata": {},
   "outputs": [
    {
     "data": {
      "text/plain": [
       "1e-20"
      ]
     },
     "execution_count": 32,
     "metadata": {},
     "output_type": "execute_result"
    }
   ],
   "source": [
    "1e-20"
   ]
  },
  {
   "cell_type": "code",
   "execution_count": 19,
   "metadata": {},
   "outputs": [],
   "source": [
    "labels = np.zeros((2,2,3)) \n",
    "labels[0][1][2] = 10\n",
    "labels = tf.cast(labels, dtype=tf.float32)\n",
    "output = np.zeros((2,2,3))\n",
    "output[0][1][2] = 2\n",
    "output = tf.cast(output, dtype=tf.float32)\n",
    "weights = tf.cast(labels > 0, dtype=tf.float32) * 81 + 1"
   ]
  },
  {
   "cell_type": "code",
   "execution_count": 20,
   "metadata": {},
   "outputs": [
    {
     "data": {
      "text/plain": [
       "<tf.Tensor: shape=(2, 2, 3), dtype=float32, numpy=\n",
       "array([[[ 1.,  1.,  1.],\n",
       "        [ 1.,  1., 82.]],\n",
       "\n",
       "       [[ 1.,  1.,  1.],\n",
       "        [ 1.,  1.,  1.]]], dtype=float32)>"
      ]
     },
     "execution_count": 20,
     "metadata": {},
     "output_type": "execute_result"
    }
   ],
   "source": [
    "weights"
   ]
  },
  {
   "cell_type": "code",
   "execution_count": 22,
   "metadata": {},
   "outputs": [
    {
     "data": {
      "text/plain": [
       "<tf.Tensor: shape=(), dtype=float32, numpy=437.33334>"
      ]
     },
     "execution_count": 22,
     "metadata": {},
     "output_type": "execute_result"
    }
   ],
   "source": [
    "tf.reduce_mean(tf.math.square(labels - output) * weights)"
   ]
  },
  {
   "cell_type": "code",
   "execution_count": null,
   "metadata": {},
   "outputs": [],
   "source": [
    "mse = tf.keras.losses.MeanSquaredError()\n",
    "mse(labels, output, sample_weight=tf.cast(labels > 0, dtype=tf.float32) * 81 + 1)"
   ]
  },
  {
   "cell_type": "code",
   "execution_count": 47,
   "metadata": {},
   "outputs": [
    {
     "name": "stdout",
     "output_type": "stream",
     "text": [
      "[(array([[48, 82],\n",
      "       [86, 47]]), array([[48, 82],\n",
      "       [86, 47]]))]\n",
      "[[48 82]\n",
      " [86 47]]\n",
      "b0: 24.0  b1: 41.0\n",
      "b0: 43.0  b1: 23.5\n",
      "ok\n",
      "[(array([[24, 41],\n",
      "       [43, 23]]), array([[24, 41],\n",
      "       [43, 23]]))]\n"
     ]
    }
   ],
   "source": [
    "# test para comprobar si el array a con elementos b,b y modificar dichos elementos dentro de una funcion modifica el array\n",
    "a = []\n",
    "b = np.random.randint(100, size=(2,2))\n",
    "a.append((b,b))\n",
    "print(a)\n",
    "print(b)\n",
    "def test(arr):\n",
    "    for i in range(b.shape[0]):\n",
    "        b0 = b[i][0]/2\n",
    "        b1 = b[i][1]/2\n",
    "        print ('b0:',b0,' b1:',b1)\n",
    "        b[i] = np.array([b0, b1])\n",
    "    return \"ok\"\n",
    "stri = test(a[0])\n",
    "print(stri)\n",
    "print(a)"
   ]
  },
  {
   "cell_type": "code",
   "execution_count": null,
   "metadata": {},
   "outputs": [],
   "source": [
    "#TEST VERSION\n",
    "def crop_resize(imagen, joints, scale, margin = 0.2):\n",
    "    # CROP PART\n",
    "    xmin = 9999\n",
    "    ymin = 9999\n",
    "    xmax = 0\n",
    "    ymax = 0\n",
    "    body_height_margin = scale * 200 * margin\n",
    "    img_height = image.shape[0]\n",
    "    img_width = image.shape[1]\n",
    "    for item in joints:\n",
    "        if item[1] >= 0 and item[1] < xmin : xmin = item[1]\n",
    "        if item[0] >= 0 and item[0] < ymin : ymin = item[0] \n",
    "        if item[1] >= 0 and item[1] > xmax : xmax = item[1]\n",
    "        if item[0] >= 0 and item[0] > ymax : ymax = item[0]    \n",
    "    xmin = xmin - body_height_margin\n",
    "    ymin = ymin - body_height_margin\n",
    "    xmax = xmax + body_height_margin\n",
    "    ymax = xmax + body_height_margin\n",
    "    if xmin < 0: xmin = 0\n",
    "    if ymin < 0: ymin = 0\n",
    "    if xmax > img_width: xmax = img_width\n",
    "    if ymax > img_height: ymax = img_height\n",
    "    imagen = imagen[ymin:ymax, xmin:xmax, :]\n",
    "    \n",
    "    #RESIZE PART\n",
    "    img_new_height = img.shape[1]\n",
    "    img_new_width = img.shape[0]\n",
    "    scala_x = img_new_width / size_img_x\n",
    "    scala_y = img_new_height / size_img_y\n",
    "    for i in range(joints.shape[0]): # escala los puntos clave\n",
    "        joints[i] = np.array([(joints[i][0] - xmin) / scala_x, (joints[i][1] - ymin) / scala_y])            \n",
    "    imagen = tf.image.resize(imagen,(size_img_x, size_img_y))        \n",
    "    imagen = imagen/255\n",
    "    \n",
    "    return imagen"
   ]
  },
  {
   "cell_type": "code",
   "execution_count": null,
   "metadata": {},
   "outputs": [],
   "source": [
    "#TEST VERSION\n",
    "def PCKH(valid_images, true_heatmaps):\n",
    "    \n",
    "    img_num = validation_images.shape[0]  \n",
    "    plot_x = np.array([0.1,0.2,0.3,0.4,0.5]) #threshold\n",
    "    plot_y = np.zeros((16,5))    \n",
    "      \n",
    "    for image in range(img_num):\n",
    "        predicted_joints = predecir_heatmap(validation_images[i]) #array 16x2 lista de coordenadas\n",
    "        true_joints = get_max(true_heatmaps[i]) #array 16x2 lista de coordenadas originales\n",
    "        head_bone_size = np.linalg.norm(np.array([true_joints[8][1] - predicted_joints[8][1], true_joints[9][0] - predicted_joints[9][0]]))\n",
    "        for joint in range(16):\n",
    "            dif = np.linalg.norm(np.array([true_joints[joint][1] - predicted_joints[joint][1], true_joints[joint][0] - predicted_joints[joint][0]]))\n",
    "            for rango in range(5):\n",
    "                 if dif =< plot_x[rango] * head_bone_size:\n",
    "                    plot_y[joint][rango] += 1\n",
    "    \n",
    "    plot_y = plot_y * 100 / img_num"
   ]
  },
  {
   "cell_type": "code",
   "execution_count": 139,
   "metadata": {},
   "outputs": [],
   "source": [
    "#VERSION OPTIMIZADA\n",
    "def MakeHeatmapOptimized(x, y, width, height, show = False):\n",
    "    # Probability as a function of distance from the center derived\n",
    "    # from a gaussian distribution with mean = 0 and stdv = 1\n",
    "    scaledGaussian = lambda x : exp(-(1/2)*(x**2))\n",
    "\n",
    "    imgSize = (height, width)\n",
    "    center_x = x\n",
    "    center_y = y\n",
    "\n",
    "    isotropicGrayscaleImage = np.zeros((imgSize[0],imgSize[1]),np.uint8)\n",
    "    \n",
    "    if center_x > 0 and center_y > 0 :\n",
    "        for i in np.unique(np.clip(np.array(range(center_y-3,center_y+4,1)),0,63)): #solo queremos calcular un parche de 7x7, ademas debemos evitar valores fuera de la matriz, finalmente quitamos valores repetidos\n",
    "            for j in np.unique(np.clip(np.array(range(center_x-3,center_x+4,1)),0,63)):\n",
    "\n",
    "                # find euclidian distance from center of image (x,y) \n",
    "                # and scale it to range of 0 to 2.5 as scaled Gaussian\n",
    "                # returns highest probability for x=0 and approximately\n",
    "                # zero probability for x > 2.5\n",
    "\n",
    "                distanceFromCenter = np.linalg.norm(np.array([i-center_y,j-center_x]))\n",
    "                #distanceFromCenter = 18*distanceFromCenter/(imgSize/2)\n",
    "                scaledGaussianProb = scaledGaussian(distanceFromCenter)                \n",
    "                isotropicGrayscaleImage[i,j] = np.clip(scaledGaussianProb*255,0,255) \n",
    "                \n",
    "        return isotropicGrayscaleImage\n",
    "    else: \n",
    "        return isotropicGrayscaleImage"
   ]
  },
  {
   "cell_type": "code",
   "execution_count": 155,
   "metadata": {},
   "outputs": [],
   "source": [
    "###NO ES BUENA IDEA A MENOS QUE QUIERA HACER TODO EL CODIGO EN TF###\n",
    "def MakeHeatmapTensorflow(x, y, width, height, show = False):\n",
    "    # Probability as a function of distance from the center derived\n",
    "    # from a gaussian distribution with mean = 0 and stdv = 1\n",
    "    scaledGaussian = lambda x : tf.math.exp(tf.math.multiply(-(0.5),tf.math.pow(x,2)))               \n",
    "\n",
    "    center_x = x\n",
    "    center_y = y\n",
    "\n",
    "    isotropicGrayscaleImage = np.zeros((height,width),np.uint8)\n",
    "    \n",
    "    if center_x > 0 and center_y > 0 :\n",
    "        for i in range(height):\n",
    "            for j in range(width):\n",
    "\n",
    "                # find euclidian distance from center of image (x,y) \n",
    "                # and scale it to range of 0 to 2.5 as scaled Gaussian\n",
    "                # returns highest probability for x=0 and approximately\n",
    "                # zero probability for x > 2.5\n",
    "\n",
    "                distanceFromCenter = tf.norm(tf.cast([i-center_y,j-center_x],dtype=tf.float32),ord='euclidean')\n",
    "                scaledGaussianProb = scaledGaussian(distanceFromCenter)\n",
    "                isotropicGrayscaleImage[i,j] = np.clip(scaledGaussianProb*255,0,255)   \n",
    "\n",
    "        return isotropicGrayscaleImage\n",
    "    else: \n",
    "        return isotropicGrayscaleImage\n",
    "########################################################################################################################################################"
   ]
  },
  {
   "cell_type": "code",
   "execution_count": 156,
   "metadata": {},
   "outputs": [],
   "source": [
    "init_t_o = time()\n",
    "h = MakeHeatmapOptimized(45,12,64,64)\n",
    "end_t_o = time() - init_t_o"
   ]
  },
  {
   "cell_type": "code",
   "execution_count": 157,
   "metadata": {},
   "outputs": [
    {
     "name": "stdout",
     "output_type": "stream",
     "text": [
      "execution time: 0.0030002593994140625\n"
     ]
    },
    {
     "data": {
      "text/plain": [
       "<matplotlib.image.AxesImage at 0x250a2d95320>"
      ]
     },
     "execution_count": 157,
     "metadata": {},
     "output_type": "execute_result"
    },
    {
     "data": {
      "image/png": "[encoded data removed]",
      "text/plain": [
       "<Figure size 432x288 with 1 Axes>"
      ]
     },
     "metadata": {
      "needs_background": "light"
     },
     "output_type": "display_data"
    }
   ],
   "source": [
    "print(\"execution time:\",end_t_o)\n",
    "plt.imshow(h)"
   ]
  },
  {
   "cell_type": "code",
   "execution_count": 164,
   "metadata": {},
   "outputs": [
    {
     "data": {
      "text/plain": [
       "int"
      ]
     },
     "execution_count": 164,
     "metadata": {},
     "output_type": "execute_result"
    }
   ],
   "source": [
    "type(round(4.52))"
   ]
  },
  {
   "cell_type": "code",
   "execution_count": null,
   "metadata": {},
   "outputs": [],
   "source": []
  }
 ],
 "metadata": {
  "kernelspec": {
   "display_name": "Python 3",
   "language": "python",
   "name": "python3"
  },
  "language_info": {
   "codemirror_mode": {
    "name": "ipython",
    "version": 3
   },
   "file_extension": ".py",
   "mimetype": "text/x-python",
   "name": "python",
   "nbconvert_exporter": "python",
   "pygments_lexer": "ipython3",
   "version": "3.6.4"
  }
 },
 "nbformat": 4,
 "nbformat_minor": 4
}
